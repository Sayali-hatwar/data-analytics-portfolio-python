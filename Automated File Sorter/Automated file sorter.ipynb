{
 "cells": [
  {
   "cell_type": "code",
   "execution_count": 7,
   "id": "ebe8a70d-a35e-421c-af92-1d16c8430f57",
   "metadata": {},
   "outputs": [],
   "source": [
    "# import important library\n",
    "import os\n",
    "import shutil\n",
    "\n",
    "## Moving files into a folder\n",
    "path = r\"C:/Users/Sayali Hatwar/Documents/Documents/\"\n",
    "\n",
    "# files present in this path\n",
    "file_name = os.listdir(path)\n",
    "\n",
    "# create folder name\n",
    "folder_name = [\"Encrypted Data\", \"image_file\"]"
   ]
  },
  {
   "cell_type": "code",
   "execution_count": 8,
   "id": "d760b21f-e4b4-40e3-8c0d-7942a725a364",
   "metadata": {},
   "outputs": [],
   "source": [
    "# mention the folder path to store the files\n",
    "for loop in range(0,2):\n",
    "    if not os.path.exists(path+folder_name[loop]):\n",
    "        print(path+folder_name[loop])\n",
    "        os.makedirs(path+folder_name[loop])\n",
    "\n",
    "#transfer the files to mentioned folders\n",
    "for file in file_name:\n",
    "    if \".txt\" in file and not os.path.exists(path+\"Encrypted Data/\"+file):\n",
    "        shutil.move(path+file,path+\"Encrypted Data/\"+file)\n",
    "    elif \".png\" in file and not os.path.exists(path+\"image_file/\"+file):\n",
    "        shutil.move(path+file,path+\"image_file/\"+file)\n",
    "    elif \".jpg\" in file and not os.path.exists(path+\"image_file/\"+file):\n",
    "        shutil.move(path+file,path+\"image_file/\"+file)\n",
    "\n",
    "# Add as many file format as much you want."
   ]
  },
  {
   "cell_type": "code",
   "execution_count": null,
   "id": "2ab7adaf-ed03-4838-8c63-ac6bbf4d6c44",
   "metadata": {},
   "outputs": [],
   "source": []
  }
 ],
 "metadata": {
  "kernelspec": {
   "display_name": "Python 3 (ipykernel)",
   "language": "python",
   "name": "python3"
  },
  "language_info": {
   "codemirror_mode": {
    "name": "ipython",
    "version": 3
   },
   "file_extension": ".py",
   "mimetype": "text/x-python",
   "name": "python",
   "nbconvert_exporter": "python",
   "pygments_lexer": "ipython3",
   "version": "3.11.7"
  }
 },
 "nbformat": 4,
 "nbformat_minor": 5
}
