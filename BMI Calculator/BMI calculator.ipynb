{
 "cells": [
  {
   "cell_type": "code",
   "execution_count": 6,
   "id": "42371167-ece9-4b7b-84c4-8806762c5881",
   "metadata": {},
   "outputs": [
    {
     "name": "stdin",
     "output_type": "stream",
     "text": [
      "Enter your name:  Monika\n",
      "Enter your weight in Kg:  50\n",
      "Enter your height in meter:  1.515\n"
     ]
    },
    {
     "name": "stdout",
     "output_type": "stream",
     "text": [
      "Monika Your BMI index is 21.784356653487134\n",
      " \n",
      "MonikaYou are Normal Weight. You are doing good\n"
     ]
    }
   ],
   "source": [
    "### Body Mass Index (BMI)\n",
    "\n",
    "Name = input(\"Enter your name: \")\n",
    "\n",
    "weight = int(input(\"Enter your weight in Kg: \"))\n",
    "\n",
    "Height = float(input(\"Enter your height in meter: \"))\n",
    "\n",
    "BMI = (weight / (Height**2))\n",
    "\n",
    "print(f\"{Name} Your BMI index is {BMI}\")\n",
    "\n",
    "#If else condition\n",
    "print(\" \")\n",
    "if BMI >0:\n",
    "    if (BMI<18.5):\n",
    "        print(Name + \"You are underweight. Do exercise and eat more\")\n",
    "    elif (BMI<=24.9):\n",
    "        print(Name + \"You are Normal Weight. You are doing good\")\n",
    "    elif (BMI<=29.9):\n",
    "        print(Name + \"You are overweight. Exercise more. \")\n",
    "    elif (BMI<=34.9):\n",
    "        print(Name + \"You are obese. Exercise more and eat healthy foods\")\n",
    "    elif (BMI<=39.9):\n",
    "        print(Name + \"You are sever obesity. Keep keen watch on exercise and diet\")\n",
    "    else:\n",
    "        print(\"Enter the morbidly obesity. You are impossible to save\")\n",
    "else:\n",
    "    print(\"Enter the valid values\")"
   ]
  },
  {
   "cell_type": "code",
   "execution_count": null,
   "id": "eb8b7d8c-3cc3-40c7-8bc5-a31faee5ccd5",
   "metadata": {},
   "outputs": [],
   "source": []
  }
 ],
 "metadata": {
  "kernelspec": {
   "display_name": "Python 3 (ipykernel)",
   "language": "python",
   "name": "python3"
  },
  "language_info": {
   "codemirror_mode": {
    "name": "ipython",
    "version": 3
   },
   "file_extension": ".py",
   "mimetype": "text/x-python",
   "name": "python",
   "nbconvert_exporter": "python",
   "pygments_lexer": "ipython3",
   "version": "3.11.7"
  }
 },
 "nbformat": 4,
 "nbformat_minor": 5
}
